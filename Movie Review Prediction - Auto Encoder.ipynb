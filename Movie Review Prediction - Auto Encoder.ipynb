{
 "cells": [
  {
   "cell_type": "code",
   "execution_count": 1,
   "metadata": {
    "ExecuteTime": {
     "end_time": "2019-07-16T07:21:18.626023Z",
     "start_time": "2019-07-16T07:21:17.470644Z"
    }
   },
   "outputs": [],
   "source": [
    "import pandas as pd\n",
    "import numpy as np\n",
    "import torch\n",
    "import torch.nn as nn\n",
    "import torch.optim as otpim\n",
    "from torch.autograd import Variable"
   ]
  },
  {
   "cell_type": "markdown",
   "metadata": {},
   "source": [
    "### Reading Trainning Data"
   ]
  },
  {
   "cell_type": "code",
   "execution_count": 2,
   "metadata": {
    "ExecuteTime": {
     "end_time": "2019-07-16T07:21:18.723978Z",
     "start_time": "2019-07-16T07:21:18.628936Z"
    }
   },
   "outputs": [],
   "source": [
    "trainning_set = pd.read_csv('ml-100k/u1.base',sep='\\t',header=None)\n",
    "test_set = pd.read_csv('ml-100k/u1.test',sep='\\t',header=None)"
   ]
  },
  {
   "cell_type": "code",
   "execution_count": 3,
   "metadata": {
    "ExecuteTime": {
     "end_time": "2019-07-16T07:21:18.735612Z",
     "start_time": "2019-07-16T07:21:18.728317Z"
    }
   },
   "outputs": [],
   "source": [
    "trainning_set = np.array(trainning_set)\n",
    "test_set = np.array(test_set)"
   ]
  },
  {
   "cell_type": "code",
   "execution_count": 4,
   "metadata": {
    "ExecuteTime": {
     "end_time": "2019-07-16T07:21:18.764093Z",
     "start_time": "2019-07-16T07:21:18.740198Z"
    }
   },
   "outputs": [
    {
     "data": {
      "text/plain": [
       "array([        1,         1,         5, 874965758])"
      ]
     },
     "execution_count": 4,
     "metadata": {},
     "output_type": "execute_result"
    }
   ],
   "source": [
    "trainning_set[0]"
   ]
  },
  {
   "cell_type": "code",
   "execution_count": 5,
   "metadata": {
    "ExecuteTime": {
     "end_time": "2019-07-16T07:21:18.772952Z",
     "start_time": "2019-07-16T07:21:18.768036Z"
    }
   },
   "outputs": [],
   "source": [
    "number_of_users = np.max(trainning_set[:,0])\n",
    "number_of_movies = np.max(trainning_set[:,1])"
   ]
  },
  {
   "cell_type": "markdown",
   "metadata": {},
   "source": [
    "### Building No of users * No of Movies Matrix"
   ]
  },
  {
   "cell_type": "code",
   "execution_count": 6,
   "metadata": {
    "ExecuteTime": {
     "end_time": "2019-07-16T07:21:18.783494Z",
     "start_time": "2019-07-16T07:21:18.776374Z"
    }
   },
   "outputs": [],
   "source": [
    "def covert_data(input_data):\n",
    "    master_matrix = []\n",
    "    for i in range(1,number_of_users+1):\n",
    "\n",
    "        ratings = np.zeros(number_of_movies)\n",
    "        movies_watched = input_data[:,1][input_data[:,0] == i]\n",
    "        ratings_given = input_data[:,2][input_data[:,0] == i]\n",
    "        ratings[movies_watched-1] = ratings_given\n",
    "        master_matrix.append(ratings)\n",
    "    return np.array(master_matrix)"
   ]
  },
  {
   "cell_type": "code",
   "execution_count": 7,
   "metadata": {
    "ExecuteTime": {
     "end_time": "2019-07-16T07:21:19.112711Z",
     "start_time": "2019-07-16T07:21:18.787177Z"
    }
   },
   "outputs": [],
   "source": [
    "trainning_set = covert_data(trainning_set)\n",
    "test_set = covert_data(test_set)"
   ]
  },
  {
   "cell_type": "markdown",
   "metadata": {},
   "source": [
    "### Coverting data to torch tensors"
   ]
  },
  {
   "cell_type": "code",
   "execution_count": 8,
   "metadata": {
    "ExecuteTime": {
     "end_time": "2019-07-16T07:21:19.135230Z",
     "start_time": "2019-07-16T07:21:19.116093Z"
    }
   },
   "outputs": [],
   "source": [
    "trainning_set = torch.FloatTensor(trainning_set)\n",
    "test_set = torch.FloatTensor(test_set)"
   ]
  },
  {
   "cell_type": "markdown",
   "metadata": {},
   "source": [
    "### Building Auto Encoder Class"
   ]
  },
  {
   "cell_type": "code",
   "execution_count": 9,
   "metadata": {
    "ExecuteTime": {
     "end_time": "2019-07-16T07:21:19.151001Z",
     "start_time": "2019-07-16T07:21:19.139966Z"
    }
   },
   "outputs": [],
   "source": [
    "class Auto_Encoder(nn.Module):\n",
    "    \n",
    "    def __init__(self):\n",
    "        \n",
    "        super(Auto_Encoder,self).__init__()\n",
    "        self.fc1 = nn.Linear(number_of_movies,20)\n",
    "        self.fc2 = nn.Linear(20,10)\n",
    "        self.fc3 = nn.Linear(10,20)\n",
    "        self.fc4 = nn.Linear(20,number_of_movies)\n",
    "        self.activation = nn.Sigmoid()\n",
    "    \n",
    "    def forward_pass(self,x):\n",
    "        \n",
    "        x = self.activation(self.fc1(x))\n",
    "        x = self.activation(self.fc2(x))\n",
    "        x = self.activation(self.fc3(x))\n",
    "        x = self.fc4(x)\n",
    "        return x\n",
    "    \n",
    "        "
   ]
  },
  {
   "cell_type": "markdown",
   "metadata": {},
   "source": [
    "### Creating AE object, Loss and Optimiser objects"
   ]
  },
  {
   "cell_type": "code",
   "execution_count": 10,
   "metadata": {
    "ExecuteTime": {
     "end_time": "2019-07-16T07:21:19.179488Z",
     "start_time": "2019-07-16T07:21:19.155780Z"
    }
   },
   "outputs": [],
   "source": [
    "ae = Auto_Encoder()\n",
    "mse = nn.MSELoss()\n",
    "opti = otpim.RMSprop(ae.parameters(),lr=0.001,weight_decay=0.5)"
   ]
  },
  {
   "cell_type": "markdown",
   "metadata": {},
   "source": [
    "### Trainning"
   ]
  },
  {
   "cell_type": "code",
   "execution_count": 11,
   "metadata": {
    "ExecuteTime": {
     "end_time": "2019-07-16T07:27:04.515817Z",
     "start_time": "2019-07-16T07:21:19.184240Z"
    }
   },
   "outputs": [
    {
     "name": "stdout",
     "output_type": "stream",
     "text": [
      "Number of Epoc:0,Train Loss:0.3576861321926117\n",
      "Number of Epoc:1,Train Loss:0.21932445466518402\n",
      "Number of Epoc:2,Train Loss:0.2102953940629959\n",
      "Number of Epoc:3,Train Loss:0.2071165144443512\n",
      "Number of Epoc:4,Train Loss:0.20552925765514374\n",
      "Number of Epoc:5,Train Loss:0.20459482073783875\n",
      "Number of Epoc:6,Train Loss:0.2039918601512909\n",
      "Number of Epoc:7,Train Loss:0.20357933640480042\n",
      "Number of Epoc:8,Train Loss:0.20328310132026672\n",
      "Number of Epoc:9,Train Loss:0.20306333899497986\n"
     ]
    }
   ],
   "source": [
    "no_of_epoc = 10\n",
    "\n",
    "for i in range(no_of_epoc):\n",
    "    \n",
    "    train_loss = 0\n",
    "    counter = 0\n",
    "    \n",
    "    for j in range(number_of_users):\n",
    "        \n",
    "        input = Variable(trainning_set[j]).unsqueeze(0)\n",
    "        target = input\n",
    "        \n",
    "        if (sum(trainning_set[j].data > 0) > 0):\n",
    "            \n",
    "            output = ae.forward_pass(input)\n",
    "            output[target == 0] = 0\n",
    "            loss = mse(output,target)\n",
    "            loss.backward()\n",
    "            train_loss += np.sqrt(loss.data)\n",
    "            opti.step()\n",
    "            counter += 1\n",
    "    \n",
    "    print(\"Number of Epoc:{},Train Loss:{}\".format(i,train_loss/counter))\n",
    "        "
   ]
  },
  {
   "cell_type": "markdown",
   "metadata": {},
   "source": [
    "### Testing"
   ]
  },
  {
   "cell_type": "code",
   "execution_count": 15,
   "metadata": {
    "ExecuteTime": {
     "end_time": "2019-07-16T07:30:56.452032Z",
     "start_time": "2019-07-16T07:30:40.585585Z"
    }
   },
   "outputs": [
    {
     "name": "stdout",
     "output_type": "stream",
     "text": [
      "Test Loss:9\n"
     ]
    }
   ],
   "source": [
    "test_loss = 0\n",
    "counter = 0\n",
    "for j in range(number_of_users):\n",
    "    \n",
    "    input = Variable(trainning_set[j]).unsqueeze(0)\n",
    "    target = Variable(test_set[j]).unsqueeze(0)\n",
    "    \n",
    "    if (sum(trainning_set[j].data > 0) > 0):\n",
    "            \n",
    "            output = ae.forward_pass(input)\n",
    "            output[target == 0] = 0\n",
    "            loss = mse(output,target)\n",
    "            test_loss += np.sqrt(loss.data)\n",
    "            print\n",
    "            counter += 1\n",
    "    \n",
    "\n",
    "print(\"Test Loss:{}\".format(i,test_loss/counter))\n",
    "        "
   ]
  },
  {
   "cell_type": "code",
   "execution_count": null,
   "metadata": {},
   "outputs": [],
   "source": []
  }
 ],
 "metadata": {
  "kernelspec": {
   "display_name": "Python 3",
   "language": "python",
   "name": "python3"
  },
  "language_info": {
   "codemirror_mode": {
    "name": "ipython",
    "version": 3
   },
   "file_extension": ".py",
   "mimetype": "text/x-python",
   "name": "python",
   "nbconvert_exporter": "python",
   "pygments_lexer": "ipython3",
   "version": "3.5.6"
  },
  "varInspector": {
   "cols": {
    "lenName": 16,
    "lenType": 16,
    "lenVar": 40
   },
   "kernels_config": {
    "python": {
     "delete_cmd_postfix": "",
     "delete_cmd_prefix": "del ",
     "library": "var_list.py",
     "varRefreshCmd": "print(var_dic_list())"
    },
    "r": {
     "delete_cmd_postfix": ") ",
     "delete_cmd_prefix": "rm(",
     "library": "var_list.r",
     "varRefreshCmd": "cat(var_dic_list()) "
    }
   },
   "position": {
    "height": "325.724px",
    "left": "1164.45px",
    "right": "20px",
    "top": "207.997px",
    "width": "521.179px"
   },
   "types_to_exclude": [
    "module",
    "function",
    "builtin_function_or_method",
    "instance",
    "_Feature"
   ],
   "window_display": false
  }
 },
 "nbformat": 4,
 "nbformat_minor": 2
}
