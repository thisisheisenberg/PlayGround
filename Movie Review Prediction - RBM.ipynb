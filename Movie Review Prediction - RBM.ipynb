{
 "cells": [
  {
   "cell_type": "code",
   "execution_count": 44,
   "metadata": {
    "ExecuteTime": {
     "end_time": "2019-07-15T04:56:13.875319Z",
     "start_time": "2019-07-15T04:56:13.872016Z"
    }
   },
   "outputs": [],
   "source": [
    "import torch\n",
    "import numpy as np\n",
    "import pandas as pd\n",
    "import torch.nn as nn"
   ]
  },
  {
   "cell_type": "markdown",
   "metadata": {},
   "source": [
    "### Reading Inputs"
   ]
  },
  {
   "cell_type": "code",
   "execution_count": 45,
   "metadata": {
    "ExecuteTime": {
     "end_time": "2019-07-15T04:56:15.636916Z",
     "start_time": "2019-07-15T04:56:15.503228Z"
    }
   },
   "outputs": [],
   "source": [
    "movies = pd.read_csv('ml-1m/movies.dat',sep='::',header=None,engine='python')\n",
    "users = pd.read_csv('ml-1m/users.dat',sep='::',header=None,engine='python')"
   ]
  },
  {
   "cell_type": "code",
   "execution_count": 46,
   "metadata": {
    "ExecuteTime": {
     "end_time": "2019-07-15T04:56:16.042462Z",
     "start_time": "2019-07-15T04:56:16.025792Z"
    }
   },
   "outputs": [
    {
     "data": {
      "text/html": [
       "<div>\n",
       "<style scoped>\n",
       "    .dataframe tbody tr th:only-of-type {\n",
       "        vertical-align: middle;\n",
       "    }\n",
       "\n",
       "    .dataframe tbody tr th {\n",
       "        vertical-align: top;\n",
       "    }\n",
       "\n",
       "    .dataframe thead th {\n",
       "        text-align: right;\n",
       "    }\n",
       "</style>\n",
       "<table border=\"1\" class=\"dataframe\">\n",
       "  <thead>\n",
       "    <tr style=\"text-align: right;\">\n",
       "      <th></th>\n",
       "      <th>0</th>\n",
       "      <th>1</th>\n",
       "      <th>2</th>\n",
       "    </tr>\n",
       "  </thead>\n",
       "  <tbody>\n",
       "    <tr>\n",
       "      <th>2207</th>\n",
       "      <td>2276</td>\n",
       "      <td>Soldier's Daughter Never Cries, A (1998)</td>\n",
       "      <td>Drama</td>\n",
       "    </tr>\n",
       "    <tr>\n",
       "      <th>2876</th>\n",
       "      <td>2945</td>\n",
       "      <td>Mike's Murder (1984)</td>\n",
       "      <td>Mystery</td>\n",
       "    </tr>\n",
       "  </tbody>\n",
       "</table>\n",
       "</div>"
      ],
      "text/plain": [
       "         0                                         1        2\n",
       "2207  2276  Soldier's Daughter Never Cries, A (1998)    Drama\n",
       "2876  2945                      Mike's Murder (1984)  Mystery"
      ]
     },
     "execution_count": 46,
     "metadata": {},
     "output_type": "execute_result"
    }
   ],
   "source": [
    "movies.sample(2)"
   ]
  },
  {
   "cell_type": "code",
   "execution_count": 47,
   "metadata": {
    "ExecuteTime": {
     "end_time": "2019-07-15T04:56:16.850339Z",
     "start_time": "2019-07-15T04:56:16.838930Z"
    }
   },
   "outputs": [
    {
     "data": {
      "text/html": [
       "<div>\n",
       "<style scoped>\n",
       "    .dataframe tbody tr th:only-of-type {\n",
       "        vertical-align: middle;\n",
       "    }\n",
       "\n",
       "    .dataframe tbody tr th {\n",
       "        vertical-align: top;\n",
       "    }\n",
       "\n",
       "    .dataframe thead th {\n",
       "        text-align: right;\n",
       "    }\n",
       "</style>\n",
       "<table border=\"1\" class=\"dataframe\">\n",
       "  <thead>\n",
       "    <tr style=\"text-align: right;\">\n",
       "      <th></th>\n",
       "      <th>0</th>\n",
       "      <th>1</th>\n",
       "      <th>2</th>\n",
       "      <th>3</th>\n",
       "      <th>4</th>\n",
       "    </tr>\n",
       "  </thead>\n",
       "  <tbody>\n",
       "    <tr>\n",
       "      <th>3100</th>\n",
       "      <td>3101</td>\n",
       "      <td>M</td>\n",
       "      <td>18</td>\n",
       "      <td>15</td>\n",
       "      <td>91101</td>\n",
       "    </tr>\n",
       "    <tr>\n",
       "      <th>5618</th>\n",
       "      <td>5619</td>\n",
       "      <td>F</td>\n",
       "      <td>18</td>\n",
       "      <td>4</td>\n",
       "      <td>22310</td>\n",
       "    </tr>\n",
       "  </tbody>\n",
       "</table>\n",
       "</div>"
      ],
      "text/plain": [
       "         0  1   2   3      4\n",
       "3100  3101  M  18  15  91101\n",
       "5618  5619  F  18   4  22310"
      ]
     },
     "execution_count": 47,
     "metadata": {},
     "output_type": "execute_result"
    }
   ],
   "source": [
    "users.sample(2)"
   ]
  },
  {
   "cell_type": "markdown",
   "metadata": {},
   "source": [
    "### Reading Trainning Set"
   ]
  },
  {
   "cell_type": "code",
   "execution_count": 48,
   "metadata": {
    "ExecuteTime": {
     "end_time": "2019-07-15T04:56:17.976567Z",
     "start_time": "2019-07-15T04:56:17.910725Z"
    }
   },
   "outputs": [],
   "source": [
    "trainning_set = pd.read_csv('ml-100k/u1.base',sep='\\t',header=None)\n",
    "test_set = pd.read_csv('ml-100k/u1.test',sep='\\t',header=None)"
   ]
  },
  {
   "cell_type": "code",
   "execution_count": 49,
   "metadata": {
    "ExecuteTime": {
     "end_time": "2019-07-15T04:56:18.607204Z",
     "start_time": "2019-07-15T04:56:18.592651Z"
    }
   },
   "outputs": [
    {
     "data": {
      "text/html": [
       "<div>\n",
       "<style scoped>\n",
       "    .dataframe tbody tr th:only-of-type {\n",
       "        vertical-align: middle;\n",
       "    }\n",
       "\n",
       "    .dataframe tbody tr th {\n",
       "        vertical-align: top;\n",
       "    }\n",
       "\n",
       "    .dataframe thead th {\n",
       "        text-align: right;\n",
       "    }\n",
       "</style>\n",
       "<table border=\"1\" class=\"dataframe\">\n",
       "  <thead>\n",
       "    <tr style=\"text-align: right;\">\n",
       "      <th></th>\n",
       "      <th>0</th>\n",
       "      <th>1</th>\n",
       "      <th>2</th>\n",
       "      <th>3</th>\n",
       "    </tr>\n",
       "  </thead>\n",
       "  <tbody>\n",
       "    <tr>\n",
       "      <th>37839</th>\n",
       "      <td>510</td>\n",
       "      <td>325</td>\n",
       "      <td>1</td>\n",
       "      <td>887667575</td>\n",
       "    </tr>\n",
       "    <tr>\n",
       "      <th>47369</th>\n",
       "      <td>615</td>\n",
       "      <td>582</td>\n",
       "      <td>3</td>\n",
       "      <td>879447968</td>\n",
       "    </tr>\n",
       "  </tbody>\n",
       "</table>\n",
       "</div>"
      ],
      "text/plain": [
       "         0    1  2          3\n",
       "37839  510  325  1  887667575\n",
       "47369  615  582  3  879447968"
      ]
     },
     "execution_count": 49,
     "metadata": {},
     "output_type": "execute_result"
    }
   ],
   "source": [
    "trainning_set.sample(2)"
   ]
  },
  {
   "cell_type": "code",
   "execution_count": 50,
   "metadata": {
    "ExecuteTime": {
     "end_time": "2019-07-15T04:56:19.323288Z",
     "start_time": "2019-07-15T04:56:19.311164Z"
    }
   },
   "outputs": [
    {
     "data": {
      "text/html": [
       "<div>\n",
       "<style scoped>\n",
       "    .dataframe tbody tr th:only-of-type {\n",
       "        vertical-align: middle;\n",
       "    }\n",
       "\n",
       "    .dataframe tbody tr th {\n",
       "        vertical-align: top;\n",
       "    }\n",
       "\n",
       "    .dataframe thead th {\n",
       "        text-align: right;\n",
       "    }\n",
       "</style>\n",
       "<table border=\"1\" class=\"dataframe\">\n",
       "  <thead>\n",
       "    <tr style=\"text-align: right;\">\n",
       "      <th></th>\n",
       "      <th>0</th>\n",
       "      <th>1</th>\n",
       "      <th>2</th>\n",
       "      <th>3</th>\n",
       "    </tr>\n",
       "  </thead>\n",
       "  <tbody>\n",
       "    <tr>\n",
       "      <th>4363</th>\n",
       "      <td>91</td>\n",
       "      <td>134</td>\n",
       "      <td>4</td>\n",
       "      <td>891439353</td>\n",
       "    </tr>\n",
       "    <tr>\n",
       "      <th>12658</th>\n",
       "      <td>276</td>\n",
       "      <td>268</td>\n",
       "      <td>4</td>\n",
       "      <td>877584085</td>\n",
       "    </tr>\n",
       "  </tbody>\n",
       "</table>\n",
       "</div>"
      ],
      "text/plain": [
       "         0    1  2          3\n",
       "4363    91  134  4  891439353\n",
       "12658  276  268  4  877584085"
      ]
     },
     "execution_count": 50,
     "metadata": {},
     "output_type": "execute_result"
    }
   ],
   "source": [
    "test_set.sample(2)"
   ]
  },
  {
   "cell_type": "markdown",
   "metadata": {},
   "source": [
    "### Need to construct matrix of size num_users x num_movies"
   ]
  },
  {
   "cell_type": "code",
   "execution_count": 51,
   "metadata": {
    "ExecuteTime": {
     "end_time": "2019-07-15T04:56:21.147749Z",
     "start_time": "2019-07-15T04:56:21.142633Z"
    }
   },
   "outputs": [],
   "source": [
    "trainning_set = np.array(trainning_set)\n",
    "test_set = np.array(test_set)"
   ]
  },
  {
   "cell_type": "code",
   "execution_count": 52,
   "metadata": {
    "ExecuteTime": {
     "end_time": "2019-07-15T04:56:24.010884Z",
     "start_time": "2019-07-15T04:56:24.007526Z"
    }
   },
   "outputs": [],
   "source": [
    "no_of_users = np.max(trainning_set[:,0])\n",
    "no_of_movies = np.max(trainning_set[:,1])"
   ]
  },
  {
   "cell_type": "code",
   "execution_count": 53,
   "metadata": {
    "ExecuteTime": {
     "end_time": "2019-07-15T04:56:25.587172Z",
     "start_time": "2019-07-15T04:56:25.583011Z"
    }
   },
   "outputs": [],
   "source": [
    "def build_matrix(input_data):\n",
    "\n",
    "    master_matrix = []\n",
    "    for i in range(1,no_of_users+1):\n",
    "        row = np.zeros(no_of_movies)\n",
    "        movies = input_data[:,1][input_data[:,0] == i]\n",
    "        ratings = input_data[:,2][input_data[:,0] == i]\n",
    "        row[movies -1] = ratings\n",
    "        master_matrix.append(row)\n",
    "    return np.array(master_matrix)"
   ]
  },
  {
   "cell_type": "code",
   "execution_count": 54,
   "metadata": {
    "ExecuteTime": {
     "end_time": "2019-07-15T04:56:26.626635Z",
     "start_time": "2019-07-15T04:56:26.487242Z"
    }
   },
   "outputs": [],
   "source": [
    "trainning_set = build_matrix(trainning_set)"
   ]
  },
  {
   "cell_type": "code",
   "execution_count": 56,
   "metadata": {
    "ExecuteTime": {
     "end_time": "2019-07-15T04:56:49.514000Z",
     "start_time": "2019-07-15T04:56:49.462825Z"
    }
   },
   "outputs": [],
   "source": [
    "test_set = build_matrix(test_set)"
   ]
  },
  {
   "cell_type": "markdown",
   "metadata": {
    "ExecuteTime": {
     "end_time": "2019-07-10T05:44:19.245297Z",
     "start_time": "2019-07-10T05:44:19.240437Z"
    }
   },
   "source": [
    "### Converting ratings to binary value"
   ]
  },
  {
   "cell_type": "code",
   "execution_count": 57,
   "metadata": {
    "ExecuteTime": {
     "end_time": "2019-07-15T04:57:41.803465Z",
     "start_time": "2019-07-15T04:57:41.765326Z"
    }
   },
   "outputs": [],
   "source": [
    "trainning_set = torch.FloatTensor(trainning_set)\n",
    "test_set = torch.FloatTensor(test_set)"
   ]
  },
  {
   "cell_type": "code",
   "execution_count": 59,
   "metadata": {
    "ExecuteTime": {
     "end_time": "2019-07-15T04:57:48.992797Z",
     "start_time": "2019-07-15T04:57:48.988237Z"
    }
   },
   "outputs": [
    {
     "data": {
      "text/plain": [
       "torch.Tensor"
      ]
     },
     "execution_count": 59,
     "metadata": {},
     "output_type": "execute_result"
    }
   ],
   "source": [
    "type(test_set)"
   ]
  },
  {
   "cell_type": "code",
   "execution_count": 61,
   "metadata": {
    "ExecuteTime": {
     "end_time": "2019-07-15T04:59:02.203927Z",
     "start_time": "2019-07-15T04:59:02.105123Z"
    }
   },
   "outputs": [],
   "source": [
    "trainning_set[trainning_set == 0] = -1\n",
    "trainning_set[trainning_set == 1] = 0\n",
    "trainning_set[trainning_set == 2] = 0\n",
    "trainning_set[trainning_set >= 3] = 1\n",
    "test_set[test_set == 0] = -1\n",
    "test_set[test_set == 1] = 0\n",
    "test_set[test_set == 2] = 0\n",
    "test_set[test_set >= 3] = 1"
   ]
  },
  {
   "cell_type": "code",
   "execution_count": 64,
   "metadata": {
    "ExecuteTime": {
     "end_time": "2019-07-15T05:09:55.156799Z",
     "start_time": "2019-07-15T05:09:55.150729Z"
    }
   },
   "outputs": [
    {
     "data": {
      "text/plain": [
       "tensor([[1.6335, 0.9508, 0.6856, 0.1522]])"
      ]
     },
     "execution_count": 64,
     "metadata": {},
     "output_type": "execute_result"
    }
   ],
   "source": [
    "rand = torch.randn(1,4)\n",
    "rand\n"
   ]
  },
  {
   "cell_type": "code",
   "execution_count": 70,
   "metadata": {
    "ExecuteTime": {
     "end_time": "2019-07-15T05:11:41.505473Z",
     "start_time": "2019-07-15T05:11:41.499675Z"
    }
   },
   "outputs": [
    {
     "data": {
      "text/plain": [
       "tensor([[0.8367, 0.7213, 0.6650, 0.5380]])"
      ]
     },
     "execution_count": 70,
     "metadata": {},
     "output_type": "execute_result"
    }
   ],
   "source": [
    "rand1 = torch.sigmoid(rand)\n",
    "rand1"
   ]
  },
  {
   "cell_type": "code",
   "execution_count": 74,
   "metadata": {
    "ExecuteTime": {
     "end_time": "2019-07-15T05:11:48.855240Z",
     "start_time": "2019-07-15T05:11:48.849838Z"
    }
   },
   "outputs": [
    {
     "data": {
      "text/plain": [
       "tensor([[1., 0., 1., 1.]])"
      ]
     },
     "execution_count": 74,
     "metadata": {},
     "output_type": "execute_result"
    }
   ],
   "source": [
    "torch.bernoulli(rand1)"
   ]
  },
  {
   "cell_type": "markdown",
   "metadata": {},
   "source": [
    "### Initializing RBM class"
   ]
  },
  {
   "cell_type": "code",
   "execution_count": 106,
   "metadata": {
    "ExecuteTime": {
     "end_time": "2019-07-15T05:57:15.833395Z",
     "start_time": "2019-07-15T05:57:15.826580Z"
    }
   },
   "outputs": [],
   "source": [
    "class RBM():\n",
    "    \n",
    "    def __init__(self,nv,nh):\n",
    "        \n",
    "        self.W = torch.randn(nh,nv)\n",
    "        self.h_bias = torch.randn(1,nh)\n",
    "        self.v_bias = torch.randn(1,nv)\n",
    "        \n",
    "    def hidden_pass(self,x):\n",
    "        \n",
    "        wx = torch.mm(x,self.W.t())\n",
    "        add_bias = wx + self.h_bias.expand_as(wx)\n",
    "        p_h_given_v = torch.sigmoid(add_bias)\n",
    "        return p_h_given_v, torch.bernoulli(p_h_given_v) \n",
    "    \n",
    "    def visible_pass(self,h):\n",
    "        \n",
    "        wx = torch.mm(h,self.W)\n",
    "        add_bias = wx + self.v_bias.expand_as(wx)\n",
    "        p_v_given_h = torch.sigmoid(add_bias)\n",
    "        return p_v_given_h, torch.bernoulli(p_v_given_h)\n",
    "    \n",
    "    def train(self,h0,hk,v0,vk):\n",
    "        \n",
    "        self.W += (torch.mm(v0.t(),h0) - torch.mm(vk.t(),hk)).t()\n",
    "        self.h_bias += torch.sum((h0 - hk), 0)\n",
    "        self.v_bias += torch.sum((v0 - vk), 0)\n",
    "    "
   ]
  },
  {
   "cell_type": "code",
   "execution_count": 107,
   "metadata": {
    "ExecuteTime": {
     "end_time": "2019-07-15T05:57:16.541986Z",
     "start_time": "2019-07-15T05:57:16.537461Z"
    }
   },
   "outputs": [],
   "source": [
    "nv = no_of_movies\n",
    "nh = 100\n",
    "bath_size = 100\n",
    "rbm = RBM(nv,nh)"
   ]
  },
  {
   "cell_type": "markdown",
   "metadata": {},
   "source": [
    "### Trainning RBM"
   ]
  },
  {
   "cell_type": "code",
   "execution_count": 109,
   "metadata": {
    "ExecuteTime": {
     "end_time": "2019-07-15T05:57:38.232482Z",
     "start_time": "2019-07-15T05:57:26.745694Z"
    }
   },
   "outputs": [
    {
     "name": "stdout",
     "output_type": "stream",
     "text": [
      "Epoc:0,Loss:0.017966706305742264\n",
      "Epoc:1,Loss:0.01577289029955864\n",
      "Epoc:2,Loss:0.015909630805253983\n",
      "Epoc:3,Loss:0.016361474990844727\n",
      "Epoc:4,Loss:0.016361474990844727\n",
      "Epoc:5,Loss:0.015612366609275341\n",
      "Epoc:6,Loss:0.01705707423388958\n",
      "Epoc:7,Loss:0.01503567211329937\n",
      "Epoc:8,Loss:0.015588585287332535\n",
      "Epoc:9,Loss:0.015332937240600586\n"
     ]
    }
   ],
   "source": [
    "for k in range(10):\n",
    "\n",
    "\n",
    "    for id_user in range(0,no_of_users - bath_size,bath_size):\n",
    "\n",
    "        loss = 0\n",
    "        counter = 0\n",
    "        v0 = trainning_set[id_user:id_user+bath_size]\n",
    "        vk = v0\n",
    "        h0,_ = rbm.hidden_pass(v0) \n",
    "\n",
    "        for i in range(20):\n",
    "\n",
    "            _,hk = rbm.hidden_pass(vk)\n",
    "            _,vk = rbm.visible_pass(hk)\n",
    "            vk[v0<0] = v0[v0<0] #to avoid updating values without original rating\n",
    "\n",
    "        hk,_ = rbm.hidden_pass(vk)\n",
    "\n",
    "        rbm.train(h0,hk,v0,vk)\n",
    "        loss += torch.mean(torch.abs(v0 - vk))\n",
    "        counter += 1\n",
    "    \n",
    "    print(\"Epoc:{},Loss:{}\".format(k,loss/counter))"
   ]
  },
  {
   "cell_type": "markdown",
   "metadata": {},
   "source": [
    "### Testing RBM\n"
   ]
  },
  {
   "cell_type": "code",
   "execution_count": 137,
   "metadata": {
    "ExecuteTime": {
     "end_time": "2019-07-15T06:15:13.828727Z",
     "start_time": "2019-07-15T06:15:13.655199Z"
    }
   },
   "outputs": [
    {
     "name": "stdout",
     "output_type": "stream",
     "text": [
      "test loss:tensor(0.2493)\n"
     ]
    }
   ],
   "source": [
    "test_loss = 0\n",
    "s = 0.\n",
    "for id_user in range(no_of_users):\n",
    "    v = trainning_set[id_user:id_user+1]\n",
    "    vt = test_set[id_user:id_user+1]\n",
    "    if len(vt[vt>=0]) > 0:\n",
    "        _,h = rbm.hidden_pass(v)\n",
    "        _,v = rbm.visible_pass(h)\n",
    "        test_loss += torch.mean(torch.abs(vt[vt>=0] - v[vt>=0]))\n",
    "        s += 1.\n",
    "print('test loss:'+str(test_loss/s))"
   ]
  },
  {
   "cell_type": "code",
   "execution_count": null,
   "metadata": {},
   "outputs": [],
   "source": []
  }
 ],
 "metadata": {
  "kernelspec": {
   "display_name": "Python 3",
   "language": "python",
   "name": "python3"
  },
  "language_info": {
   "codemirror_mode": {
    "name": "ipython",
    "version": 3
   },
   "file_extension": ".py",
   "mimetype": "text/x-python",
   "name": "python",
   "nbconvert_exporter": "python",
   "pygments_lexer": "ipython3",
   "version": "3.5.6"
  },
  "varInspector": {
   "cols": {
    "lenName": 16,
    "lenType": 16,
    "lenVar": 40
   },
   "kernels_config": {
    "python": {
     "delete_cmd_postfix": "",
     "delete_cmd_prefix": "del ",
     "library": "var_list.py",
     "varRefreshCmd": "print(var_dic_list())"
    },
    "r": {
     "delete_cmd_postfix": ") ",
     "delete_cmd_prefix": "rm(",
     "library": "var_list.r",
     "varRefreshCmd": "cat(var_dic_list()) "
    }
   },
   "position": {
    "height": "408.239px",
    "left": "1194.43px",
    "right": "20px",
    "top": "52.9744px",
    "width": "525.483px"
   },
   "types_to_exclude": [
    "module",
    "function",
    "builtin_function_or_method",
    "instance",
    "_Feature"
   ],
   "window_display": false
  }
 },
 "nbformat": 4,
 "nbformat_minor": 2
}
